{
 "cells": [
  {
   "cell_type": "code",
   "execution_count": 34,
   "metadata": {},
   "outputs": [],
   "source": [
    "import pandas as pd\n",
    "import numpy as np"
   ]
  },
  {
   "cell_type": "code",
   "execution_count": 11,
   "metadata": {},
   "outputs": [],
   "source": [
    "tmt_data = pd.read_csv('../data/peptideTMT.csv')\n",
    "names = ['37+','45+','55.2+','64.2+','73+']\n",
    "tmt_data = pd.DataFrame(tmt_data[names].values, columns=names, index=tmt_data['sequence'])"
   ]
  },
  {
   "cell_type": "code",
   "execution_count": 32,
   "metadata": {},
   "outputs": [],
   "source": [
    "from lmfit import minimize, Parameters, fit_report\n",
    "\n",
    "def sigmoid(x, x0, k, a, b):\n",
    "    y = a / (1 + np.exp(-k*(x-x0))) + b\n",
    "    return y\n",
    "\n",
    "def residual(params, x, data):    \n",
    "    #model = sigmoid(x, *[params[key].value for key in ['x0', 'k', 'a', 'b']])\n",
    "    model = sigmoid(x, *params.values()) # assuming order of params is the same for efficiency\n",
    "    return (data-model)\n",
    "\n",
    "def fit_sigmoid(x, data, vary_a=False, vary_b=False):\n",
    "  params = Parameters()\n",
    "  params.add('x0', value=55, min=30, max=80)\n",
    "  params.add('k', value=0.0)\n",
    "  params.add('a', value=1.0, vary=vary_a)\n",
    "  params.add('b', value=0.0, vary=vary_b)\n",
    "  return minimize(residual, params, args=(x,data))\n"
   ]
  },
  {
   "cell_type": "code",
   "execution_count": 35,
   "metadata": {},
   "outputs": [
    {
     "data": {
      "text/html": [
       "<h2>Fit Statistics</h2><table><tr><td>fitting method</td><td>leastsq</td><td></td></tr><tr><td># function evals</td><td>19</td><td></td></tr><tr><td># data points</td><td>27545</td><td></td></tr><tr><td># variables</td><td>2</td><td></td></tr><tr><td>chi-square</td><td> 7319.68569</td><td></td></tr><tr><td>reduced chi-square</td><td> 0.26575484</td><td></td></tr><tr><td>Akaike info crit.</td><td>-36500.1116</td><td></td></tr><tr><td>Bayesian info crit.</td><td>-36483.6644</td><td></td></tr></table><h2>Variables</h2><table><tr><th> name </th><th> value </th><th> standard error </th><th> relative error </th><th> initial value </th><th> min </th><th> max </th><th> vary </th></tr><tr><td> x0 </td><td>  49.0467045 </td><td>  0.29480259 </td><td> (0.60%) </td><td> 55 </td><td>  30.0000000 </td><td>  80.0000000 </td><td> True </td></tr><tr><td> k </td><td> -0.04916553 </td><td>  0.00114788 </td><td> (2.33%) </td><td> 0.0 </td><td>        -inf </td><td>         inf </td><td> True </td></tr><tr><td> a </td><td>  1.00000000 </td><td>  0.00000000 </td><td> (0.00%) </td><td> 1.0 </td><td>        -inf </td><td>         inf </td><td> False </td></tr><tr><td> b </td><td>  0.00000000 </td><td>  0.00000000 </td><td>  </td><td> 0.0 </td><td>        -inf </td><td>         inf </td><td> False </td></tr></table><h2>Correlations (unreported correlations are < 0.100)</h2><table><tr><td>x0</td><td>k</td><td>-0.3074</td></tr></table>"
      ],
      "text/plain": [
       "<lmfit.minimizer.MinimizerResult at 0x7fefe638e0d0>"
      ]
     },
     "execution_count": 35,
     "metadata": {},
     "output_type": "execute_result"
    }
   ],
   "source": [
    "fit_sigmoid([37, 45, 55.2, 64.2, 73], tmt_data.values)"
   ]
  },
  {
   "cell_type": "code",
   "execution_count": 36,
   "metadata": {},
   "outputs": [
    {
     "data": {
      "text/plain": [
       "array([[0.36321395, 0.42414657, 0.41705466, 0.03487091, 0.02183257],\n",
       "       [0.53577617, 0.78529249, 0.47033975, 0.00766457, 0.00721765],\n",
       "       [0.47712226, 0.28944963, 0.74840577, 0.48756093, 0.12452275],\n",
       "       ...,\n",
       "       [0.45107656, 0.33086124, 0.39629187, 0.45322967, 0.35789474],\n",
       "       [0.49900318, 0.26921657, 0.74208078, 0.23790888, 0.24669571],\n",
       "       [1.4181148 , 0.77672459, 0.73512375, 2.14428647, 0.42654028]])"
      ]
     },
     "execution_count": 36,
     "metadata": {},
     "output_type": "execute_result"
    }
   ],
   "source": [
    "tmt_data.values"
   ]
  },
  {
   "cell_type": "code",
   "execution_count": null,
   "metadata": {},
   "outputs": [],
   "source": []
  }
 ],
 "metadata": {
  "kernelspec": {
   "display_name": "base",
   "language": "python",
   "name": "python3"
  },
  "language_info": {
   "codemirror_mode": {
    "name": "ipython",
    "version": 3
   },
   "file_extension": ".py",
   "mimetype": "text/x-python",
   "name": "python",
   "nbconvert_exporter": "python",
   "pygments_lexer": "ipython3",
   "version": "3.8.8"
  },
  "orig_nbformat": 4,
  "vscode": {
   "interpreter": {
    "hash": "1d6f6171c878022954ad2c480bec0b37cf777d596adaa7cc6e37da37919f1df6"
   }
  }
 },
 "nbformat": 4,
 "nbformat_minor": 2
}
