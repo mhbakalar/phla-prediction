{
 "cells": [
  {
   "cell_type": "code",
   "execution_count": 51,
   "metadata": {},
   "outputs": [],
   "source": [
    "import pandas as pd\n",
    "import numpy as np\n",
    "from matplotlib import pyplot as plt"
   ]
  },
  {
   "cell_type": "code",
   "execution_count": 52,
   "metadata": {},
   "outputs": [],
   "source": [
    "from lmfit import minimize, Parameters, fit_report\n",
    "\n",
    "def sigmoid(x, x0, k, a, b):\n",
    "    y = a / (1 + np.exp(-k*(x-x0))) + b\n",
    "    return y\n",
    "\n",
    "def residual(params, x, data):    \n",
    "    #model = sigmoid(x, *[params[key].value for key in ['x0', 'k', 'a', 'b']])\n",
    "    model = sigmoid(x, *params.values()) # assuming order of params is the same for efficiency\n",
    "    return (data-model)\n",
    "\n",
    "def fit_sigmoid(x, data, vary_a=False, vary_b=False):\n",
    "  params = Parameters()\n",
    "  params.add('x0', value=55, min=30, max=80)\n",
    "  params.add('k', value=0.0)\n",
    "  params.add('a', value=1.0, vary=vary_a)\n",
    "  params.add('b', value=0.0, vary=vary_b)\n",
    "  return minimize(residual, params, args=(x,data))\n"
   ]
  },
  {
   "cell_type": "code",
   "execution_count": 97,
   "metadata": {},
   "outputs": [],
   "source": [
    "# Load data and fit TMT curves\n",
    "tmt_data = pd.read_csv('../data/peptideTMT.csv', sep=' ', index_col='seq')\n",
    "tmt_data = tmt_data.groupby('seq').mean()\n",
    "\n",
    "_x = tmt_data.columns.astype('float').values\n",
    "def df_fit_sigmoid(series):\n",
    "    return fit_sigmoid(_x, series.values)\n",
    "\n",
    "fits = tmt_data.apply(df_fit_sigmoid,axis=1)"
   ]
  },
  {
   "cell_type": "code",
   "execution_count": 133,
   "metadata": {},
   "outputs": [
    {
     "data": {
      "text/plain": [
       "array([30.1, 33.7, 38.6, 43.9, 51.3, 54.9, 59.8, 65.2, 69.5, 74. ])"
      ]
     },
     "execution_count": 133,
     "metadata": {},
     "output_type": "execute_result"
    }
   ],
   "source": [
    "_x"
   ]
  },
  {
   "cell_type": "code",
   "execution_count": 153,
   "metadata": {},
   "outputs": [],
   "source": [
    "x0_fits = fits.apply(lambda x: x.params['x0'].value)\n",
    "chi2_fits = fits.apply(lambda x: x.chisqr)\n",
    "\n",
    "pisa_data = tmt_data[tmt_data.columns.values[2:-3]]\n",
    "pisa_fits = pisa_data.loc[fits.index].sum(axis=1)\n",
    "fits_df = pd.DataFrame({\"x0\":x0_fits, \"chi2\":chi2_fits, \"pisa\":pisa_fits}, index=fits.index)\n",
    "\n",
    "# Basic filtering\n",
    "fits_df = fits_df[(fits_df['x0'] > 37) & (fits_df['x0'] < 60)]\n",
    "fits_df = fits_df[(fits_df['chi2'] < 0.5)]\n",
    "fits_df = fits_df[(fits_df['pisa'] < 6.0)]"
   ]
  },
  {
   "cell_type": "code",
   "execution_count": 154,
   "metadata": {},
   "outputs": [
    {
     "data": {
      "text/plain": [
       "[<matplotlib.lines.Line2D at 0x7fece288ef40>]"
      ]
     },
     "execution_count": 154,
     "metadata": {},
     "output_type": "execute_result"
    },
    {
     "data": {
      "image/png": "[encoded data removed]",
      "text/plain": [
       "<Figure size 432x288 with 1 Axes>"
      ]
     },
     "metadata": {
      "needs_background": "light"
     },
     "output_type": "display_data"
    }
   ],
   "source": [
    "plt.plot(fits_df['x0'], fits_df['pisa'], ',')"
   ]
  },
  {
   "cell_type": "code",
   "execution_count": 156,
   "metadata": {},
   "outputs": [],
   "source": [
    "\n",
    "fits_df['pisa'].to_csv('../data/tstab_data.csv', header=None, sep=' ')"
   ]
  },
  {
   "cell_type": "code",
   "execution_count": 157,
   "metadata": {},
   "outputs": [],
   "source": [
    "import pandas as pd\n",
    "hits = pd.read_csv('../data/tstab_data.csv', sep=' ', header=None, names=['seq','val'])"
   ]
  },
  {
   "cell_type": "code",
   "execution_count": 158,
   "metadata": {},
   "outputs": [],
   "source": [
    "hits['allele'] = 'A0201'\n",
    "hits['seq'] = hits['seq'].str.upper()"
   ]
  },
  {
   "cell_type": "code",
   "execution_count": 159,
   "metadata": {},
   "outputs": [],
   "source": [
    "hits.to_csv('../data/tstab_data.txt', sep=' ', float_format='%.2f', index=False)"
   ]
  },
  {
   "cell_type": "code",
   "execution_count": null,
   "metadata": {},
   "outputs": [],
   "source": []
  }
 ],
 "metadata": {
  "kernelspec": {
   "display_name": "base",
   "language": "python",
   "name": "python3"
  },
  "language_info": {
   "codemirror_mode": {
    "name": "ipython",
    "version": 3
   },
   "file_extension": ".py",
   "mimetype": "text/x-python",
   "name": "python",
   "nbconvert_exporter": "python",
   "pygments_lexer": "ipython3",
   "version": "3.8.8"
  },
  "orig_nbformat": 4,
  "vscode": {
   "interpreter": {
    "hash": "1d6f6171c878022954ad2c480bec0b37cf777d596adaa7cc6e37da37919f1df6"
   }
  }
 },
 "nbformat": 4,
 "nbformat_minor": 2
}
